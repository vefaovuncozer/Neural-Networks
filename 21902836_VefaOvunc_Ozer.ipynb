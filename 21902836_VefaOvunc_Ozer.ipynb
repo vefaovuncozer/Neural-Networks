{
  "cells": [
    {
      "cell_type": "markdown",
      "metadata": {
        "id": "YmlJ7FFJGA3k"
      },
      "source": [
        "**<h1><center>CS 464</center></h1>**\n",
        "**<h1><center>Introduction to Machine Learning</center></h1>**\n",
        "**<h1><center>Spring 2022</center></h1>**\n",
        "**<h1><center>Homework 3</center></h1>**\n",
        "<h4><center>Due: DEC 23, 2022 23:59 (GMT+3)</center></h4>"
      ]
    },
    {
      "cell_type": "markdown",
      "metadata": {
        "id": "LxSgl3smH_qk"
      },
      "source": [
        "In this third homework assignment, you are asked to develop a system that can be used to supply additional information to weather forecasts. For this task, you are provided a dataset that consists of weather images that belong to four different weather conditions: [cloudy, rain, shiny, sunrise]. Your model will classify images considering these class labels. \n",
        "\n",
        "For this assignment, **using PyTorch is mandatory.**\n",
        "\n",
        "**Tip:** You may experience latencies in file I/O if you are using Google Colab. In this regard, we recommend you upload your data to Google Drive as a zip file and unzip the folder contents in your drive. If you would like to upload the data files separately, it may take significant time.\n",
        "\n",
        "You will submit a single ipynb file as the homework submission. If you want to provide further explanation about your work, you can add Markdown cells to do so. [Here](https://www.markdownguide.org/), you can find a guide for Markdown syntax. Upload your homework with the following filename convention: \\<BilkentID\\>\\_\\<Name\\>\\_\\<Surname\\>.ipynb\n",
        "\n",
        "**Contact:**\n",
        "- [Yusuf Dalva](mailto:yusuf.dalva@bilkent.edu.tr)\n",
        "- [Ahmet Burak Yıldırım](mailto:a.yildirim@bilkent.edu.tr)\n",
        "\n",
        "**Dataset**<br>\n",
        "You can find the dataset [here](https://www.kaggle.com/datasets/pratik2901/multiclass-weather-dataset). \n"
      ]
    },
    {
      "cell_type": "markdown",
      "metadata": {
        "id": "kUQigqxM4JlE"
      },
      "source": [
        "# **Q1** [12 points]\n",
        "This part consists of 4 questions which you are expected to answer. Please fill in the following cell in Markdown format. Each question is worth 2 points."
      ]
    },
    {
      "cell_type": "markdown",
      "metadata": {
        "id": "3ZcbkhwkbQ4m"
      },
      "source": [
        "a) Do we need to output the actual probability values when performing classification with the softmax layer? If not, how do these numbers represent the likelihood of classes? Also, does the output values should be in a specific range for us to make a classification? <br>\n",
        "\n",
        "b) From the perspective of model complexity, how you can identify when a model underfits or overfits? Which plots are informative for detecting this behavior? <br>\n",
        "\n",
        "c) In neural networks, how does the ReLU function help us to generalize to conplex feature spaces? Why we are not using linear layers only? <br>\n",
        "\n",
        "d) Assume that you are going to pass the feature matrix with dimensions 64x64x5 (Height x Width x Channel size) through a convolutional layer. If our convolutional layer has a kernel size of 3x3 and the number of filters is 6, how many learnable parameters are present? <br>"
      ]
    },
    {
      "cell_type": "markdown",
      "source": [
        "a) No, there is no need for the actual probabilities when performing classification with the softmax layer. The output of a softmax (these numbers) has the probabilities for each class, thus their likelihood. The output values may not be in a specific range for the classification but since they are probabilities, they should be between 0 and 1 and add up to 1.\n",
        "\n",
        "b) Overfitting is caused by a model with a high level of complexity which fits the training data good but may not to validaiton data or test data. Underfitting is caused by a model with a low level of complexity which does not fit to the training data.\n",
        "Learning curve (training and validation error). Overfitting can be understood if training loss is significantly less than validaiton loss. Underfitting can be understood if validation loss is significantly less than training loss. \n",
        "\n",
        "c)ReLU function gives non-linearity to the model so it can learn complex patterns in the data. Due to the non-linearity model can learn more complex patterns. With only linear layers, model can learn linear relationships. Also, use of ReLU function makes the model to learn faster and  effective. \n",
        "\n",
        "d) 3 * 3 * 5 = 45 parameters per filter\n",
        "45*6 = 270 learnable parameters are present."
      ],
      "metadata": {
        "id": "lKIroEJHVVbn"
      }
    },
    {
      "cell_type": "markdown",
      "metadata": {
        "id": "Qx_XrpE44TlW"
      },
      "source": [
        "# **Q2** [88 points]"
      ]
    },
    {
      "cell_type": "markdown",
      "metadata": {
        "id": "whvv0wjpDWC_"
      },
      "source": [
        "## Necessary Imports\n",
        "In the cell below, we import some utilities that you can make use of in this assignment. Note that you need to use PyTorch in this assignment. To report certain metrics (like precision, recall, accuracy) you may use utilities from *scikit-learn* library. You can edit these imports considering your implementation as long as you use PyTorch."
      ]
    },
    {
      "cell_type": "markdown",
      "metadata": {
        "id": "ByxehL1b4b2X"
      },
      "source": [
        "## Setup"
      ]
    },
    {
      "cell_type": "code",
      "execution_count": null,
      "metadata": {
        "id": "Jk_nY5kj70sX"
      },
      "outputs": [],
      "source": [
        "import os \n",
        "import time\n",
        "import random\n",
        "\n",
        "import numpy as np\n",
        "from PIL import Image\n",
        "import matplotlib.pyplot as plt\n",
        "\n",
        "import torch\n",
        "import torch.nn as nn\n",
        "import torch.nn.functional as F\n",
        "import torchvision.models as models\n",
        "from torch.utils.data import Dataset, DataLoader\n",
        "from torch.autograd import Variable\n",
        "from torchvision import transforms\n",
        "\n",
        "from sklearn.model_selection import train_test_split\n",
        "from sklearn.metrics import confusion_matrix, f1_score, precision_score, recall_score, accuracy_score"
      ]
    },
    {
      "cell_type": "markdown",
      "metadata": {
        "id": "yAve2XUl9spy"
      },
      "source": [
        "You can test whether hardware acceleration with GPU is enabled in the cell below. In addition, if you have GPU access, you can check the amount of available GPU memory."
      ]
    },
    {
      "cell_type": "code",
      "execution_count": null,
      "metadata": {
        "colab": {
          "base_uri": "https://localhost:8080/"
        },
        "id": "0XJ4Hihx5q-2",
        "outputId": "9cf241e5-46cb-4b1b-cb20-b8ff8a4c3d62"
      },
      "outputs": [
        {
          "output_type": "stream",
          "name": "stdout",
          "text": [
            "Using device: cuda\n",
            "GPU Name: Tesla T4\n",
            "Memory Stats:\n",
            "  - Allocated: 0.0 GB\n",
            "  - Cached:    0.0 GB\n",
            "  - Total:     14.8 GB\n"
          ]
        }
      ],
      "source": [
        "# setting device as GPU if available, else CPU\n",
        "device = torch.device('cuda' if torch.cuda.is_available() else 'cpu')\n",
        "print('Using device:', device)\n",
        "\n",
        "# CUDA device information\n",
        "if device.type == 'cuda':\n",
        "    print('GPU Name:', torch.cuda.get_device_name(0))\n",
        "    print('Memory Stats:')\n",
        "    print('  - Allocated:', round(torch.cuda.memory_allocated(0)/1024**3,1), 'GB')\n",
        "    print('  - Cached:   ', round(torch.cuda.memory_reserved(0)/1024**3,1), 'GB')\n",
        "    print('  - Total:    ', round(torch.cuda.get_device_properties(0).total_memory/1024**3,1), 'GB')"
      ]
    },
    {
      "cell_type": "markdown",
      "metadata": {
        "id": "-wVIFjmb-CJI"
      },
      "source": [
        "**DO NOT CHANGE**<br>\n",
        "To evaluate your implementation fairly, we set seed values for random sampling methods in PyTorch, Numpy, and Python random library. These seeds are set to evaluate your models successfully, so do not change these values."
      ]
    },
    {
      "cell_type": "code",
      "execution_count": null,
      "metadata": {
        "id": "4NiPHoaY5q8G"
      },
      "outputs": [],
      "source": [
        "# for reproducable results\n",
        "torch.manual_seed(464)\n",
        "torch.cuda.manual_seed(464)\n",
        "np.random.seed(464)\n",
        "random.seed(464)\n",
        "if device.type == 'cuda':\n",
        "    torch.backends.cudnn.deterministic=True"
      ]
    },
    {
      "cell_type": "markdown",
      "metadata": {
        "id": "Bbgnyp5J4fMb"
      },
      "source": [
        "## Load Data [6 points]\n",
        "In this assignment, you will use a custom dataset, which you need a wrapper class to access its data. For this purpose, implement a custom dataset class to organize data with the specifications you need. This class will load batches of data using a PyTorch DataLoader later. The class signature of CustomDataset class is provided to you in the cell below, where you can implement your custom dataset.\n",
        "\n",
        "**IMPORTANT:** As you may have difficulties while fitting all images to your RAM, you need to read the images while getting that item (each item is an image here). We encourage you to read the data files in the \"__getitem__\" function to avoid encountering any issues related to fitting the data to memory. This way, you do not need to hold the dataset in a single variable, which would be memory intensive."
      ]
    },
    {
      "cell_type": "code",
      "execution_count": null,
      "metadata": {
        "id": "iEgUvtFR8uY_"
      },
      "outputs": [],
      "source": [
        "class CustomDataset(Dataset):\n",
        "    def __init__(self, data, labels, **kwargs):\n",
        "        self.data = data\n",
        "        self.labels = labels\n",
        "\n",
        "    '''This function should return sample count in the dataset'''\n",
        "    def __len__(self):\n",
        "        return len(self.data)\n",
        "\n",
        "    '''This function should return a single sample and its ground truth value from the dataset corresponding to index parameter '''\n",
        "    def __getitem__(self, index):\n",
        "        return self.data[index], self.labels[index]"
      ]
    },
    {
      "cell_type": "markdown",
      "metadata": {
        "id": "H5aZOFJwEc_-"
      },
      "source": [
        "You can implement an additional function to read and construct custom dataset objects for training, validation, and test sets. While constructing the dataset, consider the following issues:\n",
        "- Dataset contains images that end with prefixes *.jpg* and *.jpeg*.\n",
        "- If you use PIL to read images, you should convert them to \"RGB\" format to operate on three color channels.\n",
        "- Resize the dataset images to 224x224. You are going to design models that take images with tensor shape 224x224x3.\n",
        "- If you wish, you can change the ordering of the color channels with np.moveaxis function\n",
        "\n",
        "Lastly, the train-validation-test split for the dataset provided to you is 70-10-20 in terms of percentages. While constructing the dataset, remember that shuffling is a necessary step (to get randomly distributed classes across batches).\n",
        "\n",
        "You can design your dataset getter method compatible with the line provided below, where train_dataset, val_dataset, and test_dataset are all instances of CustomDataset."
      ]
    },
    {
      "cell_type": "code",
      "execution_count": null,
      "metadata": {
        "id": "5d0ZF58kGiKt"
      },
      "outputs": [],
      "source": [
        "transform_with_resize = transforms.Compose([\n",
        "    transforms.Resize((224, 224)),\n",
        "    transforms.ToTensor()\n",
        "])\n",
        "\n",
        "tensor_to_image = transforms.Compose([transforms.ToPILImage()])"
      ]
    },
    {
      "cell_type": "code",
      "execution_count": null,
      "metadata": {
        "colab": {
          "base_uri": "https://localhost:8080/"
        },
        "id": "PQWi9wDH-cPp",
        "outputId": "a4cebf6b-3d4b-4188-f9cf-57dffa47ab47"
      },
      "outputs": [
        {
          "output_type": "stream",
          "name": "stdout",
          "text": [
            "Drive already mounted at /content/drive; to attempt to forcibly remount, call drive.mount(\"/content/drive\", force_remount=True).\n"
          ]
        },
        {
          "output_type": "stream",
          "name": "stderr",
          "text": [
            "<ipython-input-18-4d01ad383e8e>:23: FutureWarning: The input object of type 'Tensor' is an array-like implementing one of the corresponding protocols (`__array__`, `__array_interface__` or `__array_struct__`); but not a sequence (or 0-D). In the future, this object will be coerced as if it was first converted using `np.array(obj)`. To retain the old behaviour, you have to either modify the type 'Tensor', or assign to an empty array created with `np.empty(correct_shape, dtype=object)`.\n",
            "  data = np.array(data)\n",
            "<ipython-input-18-4d01ad383e8e>:23: VisibleDeprecationWarning: Creating an ndarray from ragged nested sequences (which is a list-or-tuple of lists-or-tuples-or ndarrays with different lengths or shapes) is deprecated. If you meant to do this, you must specify 'dtype=object' when creating the ndarray.\n",
            "  data = np.array(data)\n"
          ]
        }
      ],
      "source": [
        "from google.colab import drive\n",
        "drive.mount('/content/drive')\n",
        "\n",
        "data= []\n",
        "datalabel = []\n",
        "for folder in os.listdir(\"/content/drive/MyDrive/Multi-class Weather Dataset\"):\n",
        "  folder_name = \"/content/drive/MyDrive/Multi-class Weather Dataset/\" + folder\n",
        "  for filename in os.listdir(folder_name):\n",
        "    dir    = folder_name + \"/\" + filename\n",
        "    img    = Image.open(dir).convert('RGB')\n",
        "    resized = transform_with_resize(img)\n",
        "    sample = resized\n",
        "    if folder == \"Shine\":\n",
        "      datalabel.append(0)\n",
        "    if folder == \"Cloudy\":\n",
        "      datalabel.append(1)\n",
        "    if folder == \"Rain\":\n",
        "      datalabel.append(2)\n",
        "    if folder == \"Sunrise\":\n",
        "      datalabel.append(3)\n",
        "    data.append(sample)\n",
        "\n",
        "data = np.array(data)\n",
        "datalabel = np.array(datalabel)\n",
        "datalabel = datalabel.reshape(1125,1)\n",
        "\n",
        "trainX, testX, trainY, testY = train_test_split(data, datalabel, test_size=0.2, random_state=42)   \n",
        "trainX, valX,  trainY, valY  = train_test_split(trainX, trainY, test_size=0.125, random_state=42)\n",
        "\n",
        "train_dataset = CustomDataset(trainX, trainY)\n",
        "val_dataset   = CustomDataset(valX, valY)\n",
        "test_dataset  = CustomDataset(testX, testY)\n",
        "\n",
        "train_loader = torch.utils.data.DataLoader(train_dataset, batch_size=64, shuffle=True)\n",
        "val_loader   = torch.utils.data.DataLoader(val_dataset, batch_size=64, shuffle=True)\n",
        "test_loader  = torch.utils.data.DataLoader(test_dataset, batch_size=64, shuffle=True)\n",
        "\n"
      ]
    },
    {
      "cell_type": "markdown",
      "metadata": {
        "id": "ltjHllVn4juX"
      },
      "source": [
        "## Models [16 points]\n",
        "In this assignment, you will implement one CNN (Convolutional Neural Network) model and one FCN (Fully-Connected Network) model, where the class signatures are provided below."
      ]
    },
    {
      "cell_type": "markdown",
      "metadata": {
        "id": "VY-2PQauFJWn"
      },
      "source": [
        "### Convolutional Neural Network (CNN) Model [8 points]\n",
        "As the first model, you will implement a convolutional model. Your model will include 3 CONV + POOL blocks, which denotes one Convolutional layer followed by a Max Pooling Layer. The channel sizes for convolutional blocks are [16, 32, 64], respectively. For all convolutional layers, take kernel size as 3, stride as one, and apply padding such that convolutions do not change the shape on width and height dimensions. \n",
        "<br><br>\n",
        "Following the convolutional part, you will perform image classification for the dataset provided to you. You can use ReLU activation as the non-linearity in your model (except the classification layer)."
      ]
    },
    {
      "cell_type": "code",
      "execution_count": null,
      "metadata": {
        "id": "C1yM9RoqAYh8"
      },
      "outputs": [],
      "source": [
        "class ConvNet(nn.Module):\n",
        "\n",
        "    def __init__(self):\n",
        "        super(ConvNet, self).__init__()\n",
        "        self.conv1 = nn.Conv2d(3,  16, kernel_size=3, padding=1,stride=1)\n",
        "        self.conv2 = nn.Conv2d(16, 32, kernel_size=3, padding=1,stride=1)\n",
        "        self.conv3 = nn.Conv2d(32, 64, kernel_size=3, padding=1,stride=1)\n",
        "        self.mp = nn.MaxPool2d(2)\n",
        "        self.fc = nn.Linear(50176, 4)\n",
        "\n",
        "    def forward(self, x):\n",
        "        in_size = x.size(0)\n",
        "        x = F.relu(self.mp(self.conv1(x)))\n",
        "        x = F.relu(self.mp(self.conv2(x)))\n",
        "        x = F.relu(self.mp(self.conv3(x)))\n",
        "        x = x.contiguous()\n",
        "        in_size = x.size(0)\n",
        "        x = x.view(in_size, -1)\n",
        "        x = self.fc(x)\n",
        "        return x\n"
      ]
    },
    {
      "cell_type": "markdown",
      "metadata": {
        "id": "b7plNvDmGmMO"
      },
      "source": [
        "### Fully Connected Network (FCN) Model [8 points]\n",
        "The second model you will try is a Fully Connected Network composed of Linear layers and non-linear activation functions connected to each other. For this part, the number of features for your linear layers is [1024, 512, 256]. Again, you can use ReLU as your non-linear activation function in your model (except the classification layer)."
      ]
    },
    {
      "cell_type": "code",
      "execution_count": null,
      "metadata": {
        "id": "spwuuCJcb5H_"
      },
      "outputs": [],
      "source": [
        "class FCNet(nn.Module):\n",
        "    '''Define your full connected network'''\n",
        "    def __init__(self, **kwargs):\n",
        "        super(FCNet, self).__init__()      \n",
        "        self.fc1=nn.Linear(150528, 1024)\n",
        "        self.fc2=nn.Linear(1024, 512)\n",
        "        self.fc3=nn.Linear(512, 256)\n",
        "        self.fc4=nn.Linear(256, 4)\n",
        "\n",
        "     \n",
        "    def forward(self, x):\n",
        "        in_size = x.size(0)\n",
        "        x = x.view(-1,150528)\n",
        "        x = F.relu(self.fc1(x))\n",
        "        x = F.relu(self.fc2(x))\n",
        "        x = F.relu(self.fc3(x))\n",
        "        x = self.fc4(x)\n",
        "        return x"
      ]
    },
    {
      "cell_type": "markdown",
      "metadata": {
        "id": "TAQDCw1AgAJV"
      },
      "source": [
        "## Training and Evaluation of FCN [22 points]\n",
        "\n",
        "Now that you implemented the model definition of CNN and FCN, you will train these models with the hyperparameters you chose. The hyperparameters that you may change are listed in the cell below. Using the FCN model defined, train a classifier that predicts weather condition classes specified by the dataset. For the optimizer, use [SGD](https://pytorch.org/docs/stable/generated/torch.optim.SGD.html) optimizer provided by PyTorch. You should try out different hyper-parameters like learning rates, epochs, momentum, and weight decay. For [momentum](https://machinelearningmastery.com/gradient-descent-with-momentum-from-scratch/) and [weight decay](https://paperswithcode.com/method/weight-decay), you can read about these concepts if you are interested.\n",
        "\n",
        "While training your model, save your best model over different epochs. You must select an appropriate metric to define the best model at a time step. You can implement the training procedure in the cell below. If you want to explain the reasoning behind your metric selection, you can add a markdown cell and provide your comments."
      ]
    },
    {
      "cell_type": "markdown",
      "metadata": {
        "id": "QMin6YgCgAJa"
      },
      "source": [
        "### Training [12 points]"
      ]
    },
    {
      "cell_type": "code",
      "execution_count": null,
      "metadata": {
        "id": "bmV69xm_gAJa",
        "colab": {
          "base_uri": "https://localhost:8080/"
        },
        "outputId": "1bede445-8509-4204-ba5c-a895f6ce7e7f"
      },
      "outputs": [
        {
          "output_type": "stream",
          "name": "stdout",
          "text": [
            "Train Loss     0 : 1.1892406940460205\n",
            "Train Accuracy 0 : 39.77128219604492\n",
            "Validation Loss     0 : 1.1799920797348022\n",
            "Validation Accuracy 0 : 48.67256546020508\n",
            "Train Loss     1 : 1.5142641067504883\n",
            "Train Accuracy 1 : 44.47268295288086\n",
            "Validation Loss     1 : 1.150337815284729\n",
            "Validation Accuracy 1 : 44.24778747558594\n",
            "Train Loss     2 : 1.1949516534805298\n",
            "Train Accuracy 2 : 57.68741989135742\n",
            "Validation Loss     2 : 1.1497877836227417\n",
            "Validation Accuracy 2 : 39.8230094909668\n",
            "Validation Loss     3 : 1.5264776945114136\n",
            "Validation Accuracy 3 : 40.70796585083008\n",
            "Train Loss     4 : 0.660798966884613\n",
            "Train Accuracy 4 : 47.395172119140625\n",
            "Validation Loss     4 : 0.8407959938049316\n",
            "Validation Accuracy 4 : 59.29203414916992\n",
            "Train Loss     5 : 1.3894833326339722\n",
            "Train Accuracy 5 : 59.212196350097656\n",
            "Validation Loss     5 : 1.0571287870407104\n",
            "Validation Accuracy 5 : 47.7876091003418\n",
            "Train Loss     6 : 0.7617229223251343\n",
            "Train Accuracy 6 : 66.45489501953125\n",
            "Validation Loss     6 : 1.1551684141159058\n",
            "Validation Accuracy 6 : 53.9822998046875\n",
            "Train Loss     7 : 0.7070947289466858\n",
            "Train Accuracy 7 : 61.49936294555664\n",
            "Validation Loss     7 : 0.8737711906433105\n",
            "Validation Accuracy 7 : 51.32743453979492\n",
            "Train Loss     8 : 1.189834713935852\n",
            "Train Accuracy 8 : 75.22236633300781\n",
            "Validation Loss     8 : 0.8104209303855896\n",
            "Validation Accuracy 8 : 69.02655029296875\n",
            "Train Loss     9 : 0.7687332630157471\n",
            "Train Accuracy 9 : 76.49301147460938\n",
            "Validation Loss     9 : 0.651299238204956\n",
            "Validation Accuracy 9 : 76.99114990234375\n",
            "Train Loss     10 : 0.43896645307540894\n",
            "Train Accuracy 10 : 73.4434585571289\n",
            "Validation Loss     10 : 0.48876672983169556\n",
            "Validation Accuracy 10 : 75.22123718261719\n",
            "Train Loss     11 : 0.35685449838638306\n",
            "Train Accuracy 11 : 79.16136932373047\n",
            "Validation Loss     11 : 0.47823941707611084\n",
            "Validation Accuracy 11 : 66.3716812133789\n",
            "Train Loss     12 : 0.9198973774909973\n",
            "Train Accuracy 12 : 68.99618530273438\n",
            "Validation Loss     12 : 0.8531781435012817\n",
            "Validation Accuracy 12 : 61.061946868896484\n",
            "Train Loss     13 : 0.6852678060531616\n",
            "Train Accuracy 13 : 69.37738037109375\n",
            "Validation Loss     13 : 0.8450905084609985\n",
            "Validation Accuracy 13 : 57.522125244140625\n",
            "Train Loss     14 : 0.5776194334030151\n",
            "Train Accuracy 14 : 77.76365661621094\n",
            "Validation Loss     14 : 0.4732687175273895\n",
            "Validation Accuracy 14 : 69.02655029296875\n",
            "Train Loss     15 : 0.4041012227535248\n",
            "Train Accuracy 15 : 79.4155044555664\n",
            "Validation Loss     15 : 0.6428446769714355\n",
            "Validation Accuracy 15 : 62.83185958862305\n",
            "Train Loss     16 : 0.3414292633533478\n",
            "Train Accuracy 16 : 77.8907241821289\n",
            "Validation Loss     16 : 0.6321408152580261\n",
            "Validation Accuracy 16 : 65.48672485351562\n",
            "Train Loss     17 : 0.4582087993621826\n",
            "Train Accuracy 17 : 81.95679473876953\n",
            "Validation Loss     17 : 1.1008856296539307\n",
            "Validation Accuracy 17 : 57.522125244140625\n",
            "Train Loss     18 : 0.6263687014579773\n",
            "Train Accuracy 18 : 62.89707565307617\n",
            "Validation Loss     18 : 0.7778117060661316\n",
            "Validation Accuracy 18 : 61.061946868896484\n",
            "Train Loss     19 : 0.3695823848247528\n",
            "Train Accuracy 19 : 80.43202209472656\n",
            "Validation Loss     19 : 0.7620340585708618\n",
            "Validation Accuracy 19 : 68.14159393310547\n",
            "Train Loss     20 : 0.3686002194881439\n",
            "Train Accuracy 20 : 71.66455078125\n",
            "Validation Loss     20 : 0.6963661909103394\n",
            "Validation Accuracy 20 : 68.14159393310547\n",
            "Train Loss     21 : 0.4217962920665741\n",
            "Train Accuracy 21 : 79.92375946044922\n",
            "Validation Loss     21 : 0.5861086845397949\n",
            "Validation Accuracy 21 : 76.10619354248047\n",
            "Train Loss     22 : 0.6283581852912903\n",
            "Train Accuracy 22 : 80.81321716308594\n",
            "Validation Loss     22 : 1.3043824434280396\n",
            "Validation Accuracy 22 : 67.25663757324219\n",
            "Train Loss     23 : 0.6424784660339355\n",
            "Train Accuracy 23 : 53.7484130859375\n",
            "Validation Loss     23 : 0.9211753010749817\n",
            "Validation Accuracy 23 : 58.40707778930664\n",
            "Train Loss     24 : 0.2673724889755249\n",
            "Train Accuracy 24 : 78.7801742553711\n",
            "Validation Loss     24 : 0.43473196029663086\n",
            "Validation Accuracy 24 : 77.87610626220703\n",
            "Train Loss     25 : 1.1718345880508423\n",
            "Train Accuracy 25 : 68.48793029785156\n",
            "Validation Loss     25 : 1.0893279314041138\n",
            "Validation Accuracy 25 : 55.75221252441406\n",
            "Train Loss     26 : 0.504808783531189\n",
            "Train Accuracy 26 : 68.86912536621094\n",
            "Validation Loss     26 : 0.7497093677520752\n",
            "Validation Accuracy 26 : 68.14159393310547\n",
            "Train Loss     27 : 0.7251420021057129\n",
            "Train Accuracy 27 : 72.04574584960938\n",
            "Validation Loss     27 : 0.7858049273490906\n",
            "Validation Accuracy 27 : 68.14159393310547\n",
            "Train Loss     28 : 0.7196794152259827\n",
            "Train Accuracy 28 : 75.09529876708984\n",
            "Validation Loss     28 : 0.8513254523277283\n",
            "Validation Accuracy 28 : 60.1769905090332\n",
            "Train Loss     29 : 0.8339125514030457\n",
            "Train Accuracy 29 : 77.6365966796875\n",
            "Validation Loss     29 : 0.7311426401138306\n",
            "Validation Accuracy 29 : 64.60176849365234\n",
            "Train Loss     30 : 0.436388224363327\n",
            "Train Accuracy 30 : 73.82465362548828\n",
            "Validation Loss     30 : 0.7468575239181519\n",
            "Validation Accuracy 30 : 62.83185958862305\n",
            "Train Loss     31 : 0.5778549909591675\n",
            "Train Accuracy 31 : 79.28843688964844\n",
            "Validation Loss     31 : 1.003302812576294\n",
            "Validation Accuracy 31 : 65.48672485351562\n",
            "Train Loss     32 : 0.30450546741485596\n",
            "Train Accuracy 32 : 79.92375946044922\n",
            "Validation Loss     32 : 0.8485968708992004\n",
            "Validation Accuracy 32 : 66.3716812133789\n",
            "Train Loss     33 : 0.5021782517433167\n",
            "Train Accuracy 33 : 74.84117126464844\n",
            "Validation Loss     33 : 0.6884021162986755\n",
            "Validation Accuracy 33 : 70.79646301269531\n",
            "Train Loss     34 : 0.7495570778846741\n",
            "Train Accuracy 34 : 80.3049545288086\n",
            "Validation Loss     34 : 1.0485436916351318\n",
            "Validation Accuracy 34 : 53.09734344482422\n"
          ]
        }
      ],
      "source": [
        "# TODO: training loop + eval FCN\n",
        "\n",
        "model = FCNet()\n",
        "\n",
        "optimizer = torch.optim.SGD(model.parameters(), lr=5e-2, momentum = 0.5, weight_decay = 5e-04)\n",
        "criterion = nn.CrossEntropyLoss()\n",
        "def val():       \n",
        "    vl_loss = 0\n",
        "    correct = 0\n",
        "    for i, (data, target) in enumerate(val_loader):\n",
        "        data, target = Variable(data), Variable(target)\n",
        "        target = target.reshape(-1)\n",
        "\n",
        "        output = model(data)\n",
        "        \n",
        "        loss = criterion(output, target)\n",
        "        vl_loss += loss.item()\n",
        "        \n",
        "        pred = output.data.max(1, keepdim=True)[1]\n",
        "        correct += pred.eq(target.data.view_as(pred)).cpu().sum()\n",
        "\n",
        "    vl_accuracy = 100. * correct / len(val_loader.dataset)\n",
        "    vl_accuracy = vl_accuracy.item()\n",
        "    val_loss.append(loss.item())\n",
        "    val_accuracy.append(vl_accuracy)\n",
        "\n",
        "    print(\"Validation Loss     \" + str(epoch) + \" : \" + str(loss.item()))\n",
        "    print(\"Validation Accuracy \" + str(epoch) + \" : \" + str(vl_accuracy))\n",
        "\n",
        "\n",
        "def train(epoch):       \n",
        "    model.train()\n",
        "    tr_loss = 0\n",
        "    correct = 0\n",
        "    for i, (data, target) in enumerate(train_loader):\n",
        "        data, target = Variable(data), Variable(target)\n",
        "        target = target.reshape(-1)\n",
        "\n",
        "        optimizer.zero_grad()\n",
        "\n",
        "        output = model(data)\n",
        "        \n",
        "        loss = criterion(output, target)\n",
        "        tr_loss += loss.item()\n",
        "        loss.backward()\n",
        "\n",
        "        optimizer.step()\n",
        "        \n",
        "        pred = output.data.max(1, keepdim=True)[1]\n",
        "        correct += pred.eq(target.data.view_as(pred)).cpu().sum()\n",
        "\n",
        "    tr_accuracy = 100. * correct / len(train_loader.dataset)\n",
        "    tr_accuracy = tr_accuracy.item()\n",
        "    train_loss.append(loss.item())\n",
        "    train_accuracy.append(tr_accuracy)\n",
        "    print(\"Train Loss     \" + str(epoch) + \" : \" + str(loss.item()))\n",
        "    print(\"Train Accuracy \" + str(epoch) + \" : \" + str(tr_accuracy))   \n",
        "    val()\n",
        "\n",
        "\n",
        "train_loss     = [] \n",
        "train_accuracy = [] \n",
        "val_loss       = [] \n",
        "val_accuracy   = [] \n",
        "\n",
        "for epoch in range(35):\n",
        "    train(epoch)"
      ]
    },
    {
      "cell_type": "markdown",
      "metadata": {
        "id": "AerO0TZ0gAJa"
      },
      "source": [
        "### Learning Process Analysis [5 points]\n",
        "Following the training step, you will now provide accuracy and loss plots over all epochs. For this, provide two plots:\n",
        "- In the first plot, you will provide the value of the accuracy metric over epochs. Your plot should include two curves, one for the training set and the other for the validation set.\n",
        "- For the second plot, provide the curve for loss values over epochs. Again your plot should include two curves, where one indicates loss on the training set and the second indicates loss for the validation set."
      ]
    },
    {
      "cell_type": "code",
      "execution_count": null,
      "metadata": {
        "id": "iiXtRpe9RI11",
        "colab": {
          "base_uri": "https://localhost:8080/",
          "height": 574
        },
        "outputId": "3f1edd51-156f-4dfe-9d36-086b7532fb68"
      },
      "outputs": [
        {
          "output_type": "display_data",
          "data": {
            "text/plain": [
              "<Figure size 432x288 with 1 Axes>"
            ],
            "image/png": "[encoded data removed]"
          },
          "metadata": {
            "needs_background": "light"
          }
        },
        {
          "output_type": "display_data",
          "data": {
            "text/plain": [
              "<Figure size 432x288 with 1 Axes>"
            ],
            "image/png": "[encoded data removed]"
          },
          "metadata": {
            "needs_background": "light"
          }
        }
      ],
      "source": [
        "# TODO: Implement your plots here, you can use matplotlib library to do so.\n",
        "\n",
        "plt.plot(train_accuracy, label = \"Training \")\n",
        "plt.plot(val_accuracy,   label = \"Validation\")\n",
        "plt.title(\"FCNet\")\n",
        "plt.xlabel(\"Epoch\")\n",
        "plt.ylabel(\"Accuracy\")\n",
        "plt.legend()\n",
        "plt.show()\n",
        "\n",
        "plt.plot(train_loss, label = \"Training \")\n",
        "plt.plot(val_loss,   label = \"Validation\")\n",
        "plt.title(\"FCNet\")\n",
        "plt.xlabel(\"Epoch\")\n",
        "plt.ylabel(\"Loss\")\n",
        "plt.legend()\n",
        "plt.show()"
      ]
    },
    {
      "cell_type": "markdown",
      "metadata": {
        "id": "y0ZcDuLQQysp"
      },
      "source": [
        "### Test [5 points]\n",
        "As the final step of your analysis, you will test your model using some metrics. For the best model you obtained during training, evaluate your model on the test set. Then, report the confusion matrix. Finally, report accuracy, precision, recall, and $F_1$ score using your model. Report all these metrics using the macro form (macro precision, macro recall, etc.). You can implement these metrics in the cell below. "
      ]
    },
    {
      "cell_type": "code",
      "execution_count": null,
      "metadata": {
        "id": "ptAiYhAIR6O5"
      },
      "outputs": [],
      "source": [
        "# TODO: Implement your evaluation script here, provide the confusion matrix and the requested metrics\n",
        "def test():\n",
        "    predictions = []\n",
        "    labels = []\n",
        "    for data, target in test_loader:\n",
        "        \n",
        "        data, target = Variable(data), Variable(target)\n",
        "        label = target.reshape(-1)\n",
        "        label = target.numpy()\n",
        "        for i in range (len(label)):\n",
        "          labels.append(label[0]) \n",
        "        \n",
        "        output = model(data)\n",
        "        pred = output.data.max(1, keepdim=True)[1]\n",
        "        pred = pred.numpy()\n",
        "        for i in range (len(pred)):\n",
        "          predictions.append(pred[0])  \n",
        "    return predictions,labels\n",
        "\n",
        "predictions, target = test()\n",
        "\n",
        "confusionmatrix = confusion_matrix(target, predictions)\n",
        "accuracy        = accuracy_score(target, predictions)\n",
        "precision       = precision_score(target, predictions, average = \"macro\")\n",
        "recall          = recall_score(target, predictions, average = \"macro\")\n",
        "f1              = f1_score(target, predictions, average = \"macro\")\n",
        "\n",
        "print(\"Accuracy  :\", accuracy)\n",
        "print(\"Precision :\", precision)\n",
        "print(\"Recall    :\", recall)\n",
        "print(\"F1 score  :\", f1)\n",
        "print(\"Confusion matrix:\")\n",
        "print(confusionmatrix)"
      ]
    },
    {
      "cell_type": "markdown",
      "metadata": {
        "id": "fVgI--N4B7lR"
      },
      "source": [
        "## Training and evaluation of CNN [22 points]\n",
        "Similar to the FCN model, you will now train the CNN model that you defined before. Again you are free to try out different hyperparameters. This model also will classify weather images with the four classes provided by the dataset. As the optimizer, again, use the SGD implementation provided by PyTorch. You can implement the training loop in the following cell. \n",
        "\n",
        "Similar to the training procedure, you need to save the best model you obtain during training. Select an appropriate criterion (metric) to save the best model. If you wish, you can add a markdown cell to explain your reasoning."
      ]
    },
    {
      "cell_type": "markdown",
      "metadata": {
        "id": "mw1OF9Fl42Bc"
      },
      "source": [
        "### Training [12 points]"
      ]
    },
    {
      "cell_type": "code",
      "execution_count": null,
      "metadata": {
        "id": "qkHD3yJM8-OE",
        "colab": {
          "base_uri": "https://localhost:8080/",
          "height": 346
        },
        "outputId": "919adf6a-1235-4a18-ceab-072ce3b8d2c3"
      },
      "outputs": [
        {
          "output_type": "error",
          "ename": "KeyboardInterrupt",
          "evalue": "ignored",
          "traceback": [
            "\u001b[0;31m---------------------------------------------------------------------------\u001b[0m",
            "\u001b[0;31mKeyboardInterrupt\u001b[0m                         Traceback (most recent call last)",
            "\u001b[0;32m<ipython-input-24-b33c6cbee93f>\u001b[0m in \u001b[0;36m<module>\u001b[0;34m\u001b[0m\n\u001b[1;32m     65\u001b[0m \u001b[0;34m\u001b[0m\u001b[0m\n\u001b[1;32m     66\u001b[0m \u001b[0;32mfor\u001b[0m \u001b[0mepoch\u001b[0m \u001b[0;32min\u001b[0m \u001b[0mrange\u001b[0m\u001b[0;34m(\u001b[0m\u001b[0;36m35\u001b[0m\u001b[0;34m)\u001b[0m\u001b[0;34m:\u001b[0m\u001b[0;34m\u001b[0m\u001b[0;34m\u001b[0m\u001b[0m\n\u001b[0;32m---> 67\u001b[0;31m     \u001b[0mtrain\u001b[0m\u001b[0;34m(\u001b[0m\u001b[0mepoch\u001b[0m\u001b[0;34m)\u001b[0m\u001b[0;34m\u001b[0m\u001b[0;34m\u001b[0m\u001b[0m\n\u001b[0m",
            "\u001b[0;32m<ipython-input-24-b33c6cbee93f>\u001b[0m in \u001b[0;36mtrain\u001b[0;34m(epoch)\u001b[0m\n\u001b[1;32m     39\u001b[0m         \u001b[0moptimizer\u001b[0m\u001b[0;34m.\u001b[0m\u001b[0mzero_grad\u001b[0m\u001b[0;34m(\u001b[0m\u001b[0;34m)\u001b[0m\u001b[0;34m\u001b[0m\u001b[0;34m\u001b[0m\u001b[0m\n\u001b[1;32m     40\u001b[0m \u001b[0;34m\u001b[0m\u001b[0m\n\u001b[0;32m---> 41\u001b[0;31m         \u001b[0moutput\u001b[0m \u001b[0;34m=\u001b[0m \u001b[0mmodel\u001b[0m\u001b[0;34m(\u001b[0m\u001b[0mdata\u001b[0m\u001b[0;34m)\u001b[0m\u001b[0;34m\u001b[0m\u001b[0;34m\u001b[0m\u001b[0m\n\u001b[0m\u001b[1;32m     42\u001b[0m \u001b[0;34m\u001b[0m\u001b[0m\n\u001b[1;32m     43\u001b[0m         \u001b[0mloss\u001b[0m \u001b[0;34m=\u001b[0m \u001b[0mcriterion\u001b[0m\u001b[0;34m(\u001b[0m\u001b[0moutput\u001b[0m\u001b[0;34m,\u001b[0m \u001b[0mtarget\u001b[0m\u001b[0;34m)\u001b[0m\u001b[0;34m\u001b[0m\u001b[0;34m\u001b[0m\u001b[0m\n",
            "\u001b[0;32m/usr/local/lib/python3.8/dist-packages/torch/nn/modules/module.py\u001b[0m in \u001b[0;36m_call_impl\u001b[0;34m(self, *input, **kwargs)\u001b[0m\n\u001b[1;32m   1188\u001b[0m         if not (self._backward_hooks or self._forward_hooks or self._forward_pre_hooks or _global_backward_hooks\n\u001b[1;32m   1189\u001b[0m                 or _global_forward_hooks or _global_forward_pre_hooks):\n\u001b[0;32m-> 1190\u001b[0;31m             \u001b[0;32mreturn\u001b[0m \u001b[0mforward_call\u001b[0m\u001b[0;34m(\u001b[0m\u001b[0;34m*\u001b[0m\u001b[0minput\u001b[0m\u001b[0;34m,\u001b[0m \u001b[0;34m**\u001b[0m\u001b[0mkwargs\u001b[0m\u001b[0;34m)\u001b[0m\u001b[0;34m\u001b[0m\u001b[0;34m\u001b[0m\u001b[0m\n\u001b[0m\u001b[1;32m   1191\u001b[0m         \u001b[0;31m# Do not call functions when jit is used\u001b[0m\u001b[0;34m\u001b[0m\u001b[0;34m\u001b[0m\u001b[0;34m\u001b[0m\u001b[0m\n\u001b[1;32m   1192\u001b[0m         \u001b[0mfull_backward_hooks\u001b[0m\u001b[0;34m,\u001b[0m \u001b[0mnon_full_backward_hooks\u001b[0m \u001b[0;34m=\u001b[0m \u001b[0;34m[\u001b[0m\u001b[0;34m]\u001b[0m\u001b[0;34m,\u001b[0m \u001b[0;34m[\u001b[0m\u001b[0;34m]\u001b[0m\u001b[0;34m\u001b[0m\u001b[0;34m\u001b[0m\u001b[0m\n",
            "\u001b[0;32m<ipython-input-19-8b594908c2e0>\u001b[0m in \u001b[0;36mforward\u001b[0;34m(self, x)\u001b[0m\n\u001b[1;32m     13\u001b[0m         \u001b[0mx\u001b[0m \u001b[0;34m=\u001b[0m \u001b[0mF\u001b[0m\u001b[0;34m.\u001b[0m\u001b[0mrelu\u001b[0m\u001b[0;34m(\u001b[0m\u001b[0mself\u001b[0m\u001b[0;34m.\u001b[0m\u001b[0mmp\u001b[0m\u001b[0;34m(\u001b[0m\u001b[0mself\u001b[0m\u001b[0;34m.\u001b[0m\u001b[0mconv1\u001b[0m\u001b[0;34m(\u001b[0m\u001b[0mx\u001b[0m\u001b[0;34m)\u001b[0m\u001b[0;34m)\u001b[0m\u001b[0;34m)\u001b[0m\u001b[0;34m\u001b[0m\u001b[0;34m\u001b[0m\u001b[0m\n\u001b[1;32m     14\u001b[0m         \u001b[0mx\u001b[0m \u001b[0;34m=\u001b[0m \u001b[0mF\u001b[0m\u001b[0;34m.\u001b[0m\u001b[0mrelu\u001b[0m\u001b[0;34m(\u001b[0m\u001b[0mself\u001b[0m\u001b[0;34m.\u001b[0m\u001b[0mmp\u001b[0m\u001b[0;34m(\u001b[0m\u001b[0mself\u001b[0m\u001b[0;34m.\u001b[0m\u001b[0mconv2\u001b[0m\u001b[0;34m(\u001b[0m\u001b[0mx\u001b[0m\u001b[0;34m)\u001b[0m\u001b[0;34m)\u001b[0m\u001b[0;34m)\u001b[0m\u001b[0;34m\u001b[0m\u001b[0;34m\u001b[0m\u001b[0m\n\u001b[0;32m---> 15\u001b[0;31m         \u001b[0mx\u001b[0m \u001b[0;34m=\u001b[0m \u001b[0mF\u001b[0m\u001b[0;34m.\u001b[0m\u001b[0mrelu\u001b[0m\u001b[0;34m(\u001b[0m\u001b[0mself\u001b[0m\u001b[0;34m.\u001b[0m\u001b[0mmp\u001b[0m\u001b[0;34m(\u001b[0m\u001b[0mself\u001b[0m\u001b[0;34m.\u001b[0m\u001b[0mconv3\u001b[0m\u001b[0;34m(\u001b[0m\u001b[0mx\u001b[0m\u001b[0;34m)\u001b[0m\u001b[0;34m)\u001b[0m\u001b[0;34m)\u001b[0m\u001b[0;34m\u001b[0m\u001b[0;34m\u001b[0m\u001b[0m\n\u001b[0m\u001b[1;32m     16\u001b[0m         \u001b[0mx\u001b[0m \u001b[0;34m=\u001b[0m \u001b[0mx\u001b[0m\u001b[0;34m.\u001b[0m\u001b[0mcontiguous\u001b[0m\u001b[0;34m(\u001b[0m\u001b[0;34m)\u001b[0m\u001b[0;34m\u001b[0m\u001b[0;34m\u001b[0m\u001b[0m\n\u001b[1;32m     17\u001b[0m         \u001b[0min_size\u001b[0m \u001b[0;34m=\u001b[0m \u001b[0mx\u001b[0m\u001b[0;34m.\u001b[0m\u001b[0msize\u001b[0m\u001b[0;34m(\u001b[0m\u001b[0;36m0\u001b[0m\u001b[0;34m)\u001b[0m\u001b[0;34m\u001b[0m\u001b[0;34m\u001b[0m\u001b[0m\n",
            "\u001b[0;32m/usr/local/lib/python3.8/dist-packages/torch/nn/modules/module.py\u001b[0m in \u001b[0;36m_call_impl\u001b[0;34m(self, *input, **kwargs)\u001b[0m\n\u001b[1;32m   1188\u001b[0m         if not (self._backward_hooks or self._forward_hooks or self._forward_pre_hooks or _global_backward_hooks\n\u001b[1;32m   1189\u001b[0m                 or _global_forward_hooks or _global_forward_pre_hooks):\n\u001b[0;32m-> 1190\u001b[0;31m             \u001b[0;32mreturn\u001b[0m \u001b[0mforward_call\u001b[0m\u001b[0;34m(\u001b[0m\u001b[0;34m*\u001b[0m\u001b[0minput\u001b[0m\u001b[0;34m,\u001b[0m \u001b[0;34m**\u001b[0m\u001b[0mkwargs\u001b[0m\u001b[0;34m)\u001b[0m\u001b[0;34m\u001b[0m\u001b[0;34m\u001b[0m\u001b[0m\n\u001b[0m\u001b[1;32m   1191\u001b[0m         \u001b[0;31m# Do not call functions when jit is used\u001b[0m\u001b[0;34m\u001b[0m\u001b[0;34m\u001b[0m\u001b[0;34m\u001b[0m\u001b[0m\n\u001b[1;32m   1192\u001b[0m         \u001b[0mfull_backward_hooks\u001b[0m\u001b[0;34m,\u001b[0m \u001b[0mnon_full_backward_hooks\u001b[0m \u001b[0;34m=\u001b[0m \u001b[0;34m[\u001b[0m\u001b[0;34m]\u001b[0m\u001b[0;34m,\u001b[0m \u001b[0;34m[\u001b[0m\u001b[0;34m]\u001b[0m\u001b[0;34m\u001b[0m\u001b[0;34m\u001b[0m\u001b[0m\n",
            "\u001b[0;32m/usr/local/lib/python3.8/dist-packages/torch/nn/modules/conv.py\u001b[0m in \u001b[0;36mforward\u001b[0;34m(self, input)\u001b[0m\n\u001b[1;32m    461\u001b[0m \u001b[0;34m\u001b[0m\u001b[0m\n\u001b[1;32m    462\u001b[0m     \u001b[0;32mdef\u001b[0m \u001b[0mforward\u001b[0m\u001b[0;34m(\u001b[0m\u001b[0mself\u001b[0m\u001b[0;34m,\u001b[0m \u001b[0minput\u001b[0m\u001b[0;34m:\u001b[0m \u001b[0mTensor\u001b[0m\u001b[0;34m)\u001b[0m \u001b[0;34m->\u001b[0m \u001b[0mTensor\u001b[0m\u001b[0;34m:\u001b[0m\u001b[0;34m\u001b[0m\u001b[0;34m\u001b[0m\u001b[0m\n\u001b[0;32m--> 463\u001b[0;31m         \u001b[0;32mreturn\u001b[0m \u001b[0mself\u001b[0m\u001b[0;34m.\u001b[0m\u001b[0m_conv_forward\u001b[0m\u001b[0;34m(\u001b[0m\u001b[0minput\u001b[0m\u001b[0;34m,\u001b[0m \u001b[0mself\u001b[0m\u001b[0;34m.\u001b[0m\u001b[0mweight\u001b[0m\u001b[0;34m,\u001b[0m \u001b[0mself\u001b[0m\u001b[0;34m.\u001b[0m\u001b[0mbias\u001b[0m\u001b[0;34m)\u001b[0m\u001b[0;34m\u001b[0m\u001b[0;34m\u001b[0m\u001b[0m\n\u001b[0m\u001b[1;32m    464\u001b[0m \u001b[0;34m\u001b[0m\u001b[0m\n\u001b[1;32m    465\u001b[0m \u001b[0;32mclass\u001b[0m \u001b[0mConv3d\u001b[0m\u001b[0;34m(\u001b[0m\u001b[0m_ConvNd\u001b[0m\u001b[0;34m)\u001b[0m\u001b[0;34m:\u001b[0m\u001b[0;34m\u001b[0m\u001b[0;34m\u001b[0m\u001b[0m\n",
            "\u001b[0;32m/usr/local/lib/python3.8/dist-packages/torch/nn/modules/conv.py\u001b[0m in \u001b[0;36m_conv_forward\u001b[0;34m(self, input, weight, bias)\u001b[0m\n\u001b[1;32m    457\u001b[0m                             \u001b[0mweight\u001b[0m\u001b[0;34m,\u001b[0m \u001b[0mbias\u001b[0m\u001b[0;34m,\u001b[0m \u001b[0mself\u001b[0m\u001b[0;34m.\u001b[0m\u001b[0mstride\u001b[0m\u001b[0;34m,\u001b[0m\u001b[0;34m\u001b[0m\u001b[0;34m\u001b[0m\u001b[0m\n\u001b[1;32m    458\u001b[0m                             _pair(0), self.dilation, self.groups)\n\u001b[0;32m--> 459\u001b[0;31m         return F.conv2d(input, weight, bias, self.stride,\n\u001b[0m\u001b[1;32m    460\u001b[0m                         self.padding, self.dilation, self.groups)\n\u001b[1;32m    461\u001b[0m \u001b[0;34m\u001b[0m\u001b[0m\n",
            "\u001b[0;31mKeyboardInterrupt\u001b[0m: "
          ]
        }
      ],
      "source": [
        "# TODO: training loop + eval CNN\n",
        "\n",
        "model = ConvNet()\n",
        "\n",
        "optimizer = torch.optim.SGD(model.parameters(), lr=5e-2, momentum = 0.5, weight_decay = 5e-04)\n",
        "criterion = nn.CrossEntropyLoss()\n",
        "def val():       \n",
        "    vl_loss = 0\n",
        "    correct = 0\n",
        "    for i, (data, target) in enumerate(val_loader):\n",
        "        data, target = Variable(data), Variable(target)\n",
        "        target = target.reshape(-1)\n",
        "\n",
        "        output = model(data)\n",
        "        \n",
        "        loss = criterion(output, target)\n",
        "        vl_loss += loss.item()\n",
        "        \n",
        "        pred = output.data.max(1, keepdim=True)[1]\n",
        "        correct += pred.eq(target.data.view_as(pred)).cpu().sum()\n",
        "\n",
        "    vl_accuracy = 100. * correct / len(val_loader.dataset)\n",
        "    vl_accuracy = vl_accuracy.item()\n",
        "    val_loss.append(loss.item())\n",
        "    val_accuracy.append(vl_accuracy)\n",
        "\n",
        "    print(\"Validation Loss     \" + str(epoch) + \" : \" + str(loss.item()))\n",
        "    print(\"Validation Accuracy \" + str(epoch) + \" : \" + str(vl_accuracy))\n",
        "\n",
        "\n",
        "def train(epoch):       \n",
        "    model.train()\n",
        "    tr_loss = 0\n",
        "    correct = 0\n",
        "    for i, (data, target) in enumerate(train_loader):\n",
        "        data, target = Variable(data), Variable(target)\n",
        "        target = target.reshape(-1)\n",
        "\n",
        "        optimizer.zero_grad()\n",
        "\n",
        "        output = model(data)\n",
        "        \n",
        "        loss = criterion(output, target)\n",
        "        tr_loss += loss.item()\n",
        "        loss.backward()\n",
        "\n",
        "        optimizer.step()\n",
        "        \n",
        "        pred = output.data.max(1, keepdim=True)[1]\n",
        "        correct += pred.eq(target.data.view_as(pred)).cpu().sum()\n",
        "\n",
        "    tr_accuracy = 100. * correct / len(train_loader.dataset)\n",
        "    tr_accuracy = tr_accuracy.item()\n",
        "    train_loss.append(loss.item())\n",
        "    train_accuracy.append(tr_accuracy)\n",
        "    print(\"Train Loss     \" + str(epoch) + \" : \" + str(loss.item()))\n",
        "    print(\"Train Accuracy \" + str(epoch) + \" : \" + str(tr_accuracy))   \n",
        "    val()\n",
        "\n",
        "\n",
        "train_loss     = [] \n",
        "train_accuracy = [] \n",
        "val_loss       = [] \n",
        "val_accuracy   = [] \n",
        "\n",
        "for epoch in range(35):\n",
        "    train(epoch)"
      ]
    },
    {
      "cell_type": "markdown",
      "metadata": {
        "id": "vOiPy1hI44gy"
      },
      "source": [
        "### Learning Process Analysis [3 points]\n",
        "Repeating the same procedure you applied for the FCN model; you will provide two plots about how your training proceeds over epochs. Again, provide two plots: one summarizes the loss values, and the other summarizes the accuracy values. Note that each plot needs to include two curves, one for the validation set and the other for the training set."
      ]
    },
    {
      "cell_type": "code",
      "execution_count": null,
      "metadata": {
        "id": "lFwAi_zPelX6"
      },
      "outputs": [],
      "source": [
        "# TODO: Implement your plots here, you can use matplotlib library to do so.\n",
        "plt.plot(train_accuracy, label=\"Training \")\n",
        "plt.plot(val_accuracy, label=\"Validation\")\n",
        "plt.title(\"ConvNet\")\n",
        "plt.xlabel(\"Epoch\")\n",
        "plt.ylabel(\"Accuracy\")\n",
        "plt.legend()\n",
        "plt.show()\n",
        "\n",
        "plt.plot(train_loss, label=\"Training \")\n",
        "plt.plot(val_loss, label=\"Validation\")\n",
        "plt.title(\"ConvNet\")\n",
        "plt.xlabel(\"Epoch\")\n",
        "plt.ylabel(\"Loss\")\n",
        "plt.legend()\n",
        "plt.show()"
      ]
    },
    {
      "cell_type": "markdown",
      "metadata": {
        "id": "2Ccx_9g54-GS"
      },
      "source": [
        "### Test [4 points]\n",
        "Concluding your analysis, report the confusion matrix for the best model you obtained during your CNN model training. Then using this confusion matrix, report accuracy, recall, precision, and $F_1$ score for your best model. Use macro averaging in all of your metrics."
      ]
    },
    {
      "cell_type": "code",
      "execution_count": null,
      "metadata": {
        "id": "t7USNWHYemYo"
      },
      "outputs": [],
      "source": [
        "# TODO: Implement your evaluation script here, provide the confusion matrix and the requested metrics\n",
        "def test():\n",
        "    predictions = []\n",
        "    labels = []\n",
        "    for data, target in test_loader:\n",
        "        \n",
        "        data, target = Variable(data), Variable(target)\n",
        "        label = target.numpy()\n",
        "        for i in range (len(label)):\n",
        "          labels.append(label[0]) \n",
        "        \n",
        "        output = model(data)\n",
        "        pred = output.data.max(1, keepdim=True)[1]\n",
        "        pred = pred.numpy()\n",
        "        for i in range (len(pred)):\n",
        "          predictions.append(pred[0])  \n",
        "    return predictions,labels\n",
        "\n",
        "predictions, target = test()\n",
        "\n",
        "confusionmatrix = confusion_matrix(target, predictions)\n",
        "accuracy        = accuracy_score(target, predictions)\n",
        "precision       = precision_score(target, predictions, average = \"macro\")\n",
        "recall          = recall_score(target, predictions, average = \"macro\")\n",
        "f1              = f1_score(target, predictions, average = \"macro\")\n",
        "\n",
        "print(\"Accuracy  :\", accuracy)\n",
        "print(\"Precision :\", precision)\n",
        "print(\"Recall    :\", recall)\n",
        "print(\"F1 score  :\", f1)\n",
        "print(\"Confusion matrix:\")\n",
        "print(confusionmatrix)"
      ]
    },
    {
      "cell_type": "code",
      "source": [],
      "metadata": {
        "id": "yIQvtD2qNBiG"
      },
      "execution_count": null,
      "outputs": []
    },
    {
      "cell_type": "markdown",
      "metadata": {
        "id": "vPK3UZ9besKr"
      },
      "source": [
        "### Discussion [3 points]\n",
        "Now, try to compare the two models that you trained. How different are these two models regarding the number of parameters used?\n",
        "\n",
        "Explain your findings by connecting them with your experimental results. You can include your comments on a separate Markdown cell or below the question statement."
      ]
    },
    {
      "cell_type": "markdown",
      "source": [
        "FCNet - fully connected layers- the number of parameters in an FCNet grows quadratically with the number of neurons in each layer. ConvNets consists of convolutional layers, which use filters to extract features. FCNets has more parameters than ConvNets because the input is large. ConvNets are more efficient and can be trained easily but FCNets are more powerful than ConvNets.\n",
        "\n"
      ],
      "metadata": {
        "id": "kg8iEfNZZ7-z"
      }
    },
    {
      "cell_type": "markdown",
      "metadata": {
        "id": "RaSufbDNrt_H"
      },
      "source": [
        "## Transfer Learning [22 points]\n",
        "\n",
        "As the last part of this assignment, you will practice transfer learning. In this methodology, we aim to use models trained on large-scale datasets for our task. As we do not have access to large datasets and computational resources all the time, we sometimes try to use already trained models (on other datasets) as a good starting point for our model, and then fine-tune the weights considering our task.  \n",
        "\n",
        "Torchvision library provides numerous models pretrained for specific tasks. [Here](https://pytorch.org/vision/stable/models.html), you can find a list of pretrained models. For this part, you will include [ResNet](https://arxiv.org/abs/1512.03385)-18 model, pretrained with ImageNet dataset. ImageNet is a large dataset where training from scratch would take a long time. You will fine-tune this pretrained module for your task. \n",
        "<br>\n",
        "**Hint:** You can add a Linear layer to adapt the model to the number of classes needed for your task. You can access the number of inputs to the ResNet-18 model as $\\texttt{model.fc.in_features}$ and then modify the fully connected layer of the model $\\texttt{model.fc}$.\n",
        "<br>\n",
        "\n",
        "Using the ResNet-18 backbone, implement this model's training loop (by adapting it to your task). You can implement the training procedure in the cell provided below. Again save your model based on a criterion indicating the best model. Explain the reasoning for your criteria. Use the SGD optimizer provided by PyTorch to optimize your model.\n",
        "\n",
        "Just like the previous parts, you can also tune your hyperparameters to optimize your model's performance. "
      ]
    },
    {
      "cell_type": "code",
      "execution_count": null,
      "metadata": {
        "id": "ONnXD0aiNMvA"
      },
      "outputs": [],
      "source": [
        "model = models.resnet18(pretrained=True)\n",
        "in_features = model.fc.in_features  \n",
        "model.fc = torch.nn.Linear(in_features, 4)"
      ]
    },
    {
      "cell_type": "markdown",
      "metadata": {
        "id": "s1O0rHumXDob"
      },
      "source": [
        "###Training [12 points]"
      ]
    },
    {
      "cell_type": "code",
      "execution_count": null,
      "metadata": {
        "id": "BnW83nhhN-m4"
      },
      "outputs": [],
      "source": [
        "# TODO: training loop + eval ResNet-18\n",
        "\n",
        "optimizer = torch.optim.SGD(model.parameters(), lr=5e-2, momentum = 0.5, weight_decay = 5e-04)\n",
        "criterion = nn.CrossEntropyLoss()\n",
        "def val():       \n",
        "    vl_loss = 0\n",
        "    correct = 0\n",
        "    for i, (data, target) in enumerate(val_loader):\n",
        "        data, target = Variable(data), Variable(target)\n",
        "        target = target.reshape(-1)\n",
        "\n",
        "        output = model(data)\n",
        "        \n",
        "        loss = criterion(output, target)\n",
        "        vl_loss += loss.item()\n",
        "        \n",
        "        pred = output.data.max(1, keepdim=True)[1]\n",
        "        correct += pred.eq(target.data.view_as(pred)).cpu().sum()\n",
        "\n",
        "    vl_accuracy = 100. * correct / len(val_loader.dataset)\n",
        "    vl_accuracy = vl_accuracy.item()\n",
        "    val_loss.append(loss.item())\n",
        "    val_accuracy.append(vl_accuracy)\n",
        "\n",
        "    print(\"Validation Loss     \" + str(epoch) + \" : \" + str(loss.item()))\n",
        "    print(\"Validation Accuracy \" + str(epoch) + \" : \" + str(vl_accuracy))\n",
        "\n",
        "\n",
        "def train(epoch):       \n",
        "    model.train()\n",
        "    tr_loss = 0\n",
        "    correct = 0\n",
        "    for i, (data, target) in enumerate(train_loader):\n",
        "        data, target = Variable(data), Variable(target)\n",
        "        target = target.reshape(-1)\n",
        "\n",
        "        optimizer.zero_grad()\n",
        "\n",
        "        output = model(data)\n",
        "        \n",
        "        loss = criterion(output, target)\n",
        "        tr_loss += loss.item()\n",
        "        loss.backward()\n",
        "\n",
        "        optimizer.step()\n",
        "        \n",
        "        pred = output.data.max(1, keepdim=True)[1]\n",
        "        correct += pred.eq(target.data.view_as(pred)).cpu().sum()\n",
        "\n",
        "    tr_accuracy = 100. * correct / len(train_loader.dataset)\n",
        "    tr_accuracy = tr_accuracy.item()\n",
        "    train_loss.append(loss.item())\n",
        "    train_accuracy.append(tr_accuracy)\n",
        "    print(\"Train Loss     \" + str(epoch) + \" : \" + str(loss.item()))\n",
        "    print(\"Train Accuracy \" + str(epoch) + \" : \" + str(tr_accuracy))   \n",
        "    val()\n",
        "\n",
        "\n",
        "train_loss     = [] \n",
        "train_accuracy = [] \n",
        "val_loss       = [] \n",
        "val_accuracy   = [] \n",
        "\n",
        "for epoch in range(10):\n",
        "    train(epoch)"
      ]
    },
    {
      "cell_type": "markdown",
      "metadata": {
        "id": "LW2aqaDEXFds"
      },
      "source": [
        "###Learning Process Analysis [3 points]\n",
        "After training your model, provide two plots summarizing the learning procedure. Like previous parts, you will provide plots for loss value and accuracy progression over epochs. Remember that for each plot, you need to include two curves (one for the training set and one for the validation set)."
      ]
    },
    {
      "cell_type": "code",
      "execution_count": null,
      "metadata": {
        "id": "esWBPBmdlqlA"
      },
      "outputs": [],
      "source": [
        "# TODO: Implement your plots here, you can use matplotlib library to do so.\n",
        "plt.plot(train_accuracy, label=\"Training \")\n",
        "plt.plot(val_accuracy, label=\"Validation\")\n",
        "plt.title(\"ResNet-18\")\n",
        "plt.xlabel(\"Epoch\")\n",
        "plt.ylabel(\"Accuracy\")\n",
        "plt.legend()\n",
        "plt.show()\n",
        "\n",
        "plt.plot(train_loss, label=\"Training \")\n",
        "plt.plot(val_loss, label=\"Validation\")\n",
        "plt.title(\"ResNet-18\")\n",
        "plt.xlabel(\"Epoch\")\n",
        "plt.ylabel(\"Loss\")\n",
        "plt.legend()\n",
        "plt.show()"
      ]
    },
    {
      "cell_type": "markdown",
      "metadata": {
        "id": "o4Y-Qs33XH_G"
      },
      "source": [
        "### Test [4 points]\n",
        "Following your analysis, report the confusion matrix for the best model you obtained (with the criteria you defined). Then, report the accuracy, precision, recall and $F_1$ score for the best model. In all of the metrics, use macro averaging."
      ]
    },
    {
      "cell_type": "code",
      "execution_count": null,
      "metadata": {
        "id": "bsZbLlOD5SvJ"
      },
      "outputs": [],
      "source": [
        "# TODO: Implement your evaluation script here, provide the confusion matrix and the requested metrics\n",
        "def test():\n",
        "    predictions = []\n",
        "    labels = []\n",
        "    for data, target in test_loader:\n",
        "        \n",
        "        data, target = Variable(data), Variable(target)\n",
        "        label = target.numpy()\n",
        "        for i in range (len(label)):\n",
        "          labels.append(label[0]) \n",
        "        \n",
        "        output = model(data)\n",
        "        pred = output.data.max(1, keepdim=True)[1]\n",
        "        pred = pred.numpy()\n",
        "        for i in range (len(pred)):\n",
        "          predictions.append(pred[0])  \n",
        "    return predictions,labels\n",
        "\n",
        "predictions, target = test()\n",
        "\n",
        "\n",
        "confusionmatrix = confusion_matrix(target, predictions)\n",
        "accuracy        = accuracy_score(target, predictions)\n",
        "precision       = precision_score(target, predictions, average=\"macro\")\n",
        "recall          = recall_score(target, predictions, average=\"macro\")\n",
        "f1              = f1_score(target, predictions, average=\"macro\")\n",
        "\n",
        "print(\"Accuracy  :\", accuracy)\n",
        "print(\"Precision :\", precision)\n",
        "print(\"Recall    :\", recall)\n",
        "print(\"F1 score  :\", f1)\n",
        "print(\"Confusion matrix:\")\n",
        "print(confusionmatrix)"
      ]
    },
    {
      "cell_type": "markdown",
      "metadata": {
        "id": "47uwNm3NmJDB"
      },
      "source": [
        "### Discussion [3 points]\n",
        "Now discuss the effectiveness of Transfer Learning. How does it improve performance?  "
      ]
    },
    {
      "cell_type": "markdown",
      "source": [
        "It improves the performance since it is pre-trained and already has learned some features. Since it is trained on a large dataset it has an advantage of being generalized to new tasks. Transfer learning is used to fine-tune the hyperparameters of the pre-trained model and learning rate chosen to be less. Due to all these reasons, transfer learning has a high performance. "
      ],
      "metadata": {
        "id": "5nEOHJ4Vb4o9"
      }
    },
    {
      "cell_type": "markdown",
      "metadata": {
        "id": "23y1QPvOVDIF"
      },
      "source": [
        "# References\n",
        "[1] Ajayi, Gbeminiyi (2018), “Multi-class Weather Dataset for Image Classification”, Mendeley Data, V1, doi: 10.17632/4drtyfjtfy.1"
      ]
    }
  ],
  "metadata": {
    "accelerator": "GPU",
    "colab": {
      "provenance": []
    },
    "kernelspec": {
      "display_name": "Python 3",
      "language": "python",
      "name": "python3"
    },
    "language_info": {
      "codemirror_mode": {
        "name": "ipython",
        "version": 3
      },
      "file_extension": ".py",
      "mimetype": "text/x-python",
      "name": "python",
      "nbconvert_exporter": "python",
      "pygments_lexer": "ipython3",
      "version": "3.8.3"
    }
  },
  "nbformat": 4,
  "nbformat_minor": 0
}